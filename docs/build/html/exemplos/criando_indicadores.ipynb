{
 "cells": [
  {
   "cell_type": "markdown",
   "metadata": {},
   "source": [
    "# Como inserir indicadores\n",
    "\n",
    "- Pré-requisitos\n",
    "    - camada [se houver referencia espacial para os dados] deve estar criada\n",
    "    - os dados devem estar em CSV. Uma das colunas deve ser uma referência ao dado espacial\n",
    "    - os indicadores devem estar em CSV ou serem inseridos 1 a 1.\n",
    "\n",
    "- O CSV dos indicadores deve obedecer o formato deve ser {tema;assunto;tabela;definicao;descricao;fonte;ano} "
   ]
  },
  {
   "cell_type": "code",
   "execution_count": 1,
   "metadata": {},
   "outputs": [],
   "source": [
    "import os\n",
    "import sys\n",
    "\n",
    "#path para a biblioteca do apiModulo. Ajuste de acordo com a necessidade\n",
    "sys.path.insert(0, os.path.abspath('../../..'))\n",
    "from apiModulo.api import *"
   ]
  },
  {
   "cell_type": "code",
   "execution_count": 2,
   "metadata": {},
   "outputs": [
    {
     "name": "stdout",
     "output_type": "stream",
     "text": [
      "AVISO: Linha vazia na coluna 'prosp_soc': nan\n",
      "AVISO: acesso de tipos divergentes\n",
      "AVISO: acesso de tipos divergentes\n",
      "AVISO: acesso de tipos divergentes\n",
      "AVISO: acesso de tipos divergentes\n",
      "AVISO: acesso de tipos divergentes\n",
      "AVISO: acesso de tipos divergentes\n",
      "AVISO: acesso de tipos divergentes\n",
      "AVISO: acesso de tipos divergentes\n",
      "AVISO: acesso de tipos divergentes\n",
      "AVISO: acesso de tipos divergentes\n",
      "AVISO: acesso de tipos divergentes\n",
      "AVISO: acesso de tipos divergentes\n",
      "AVISO: acesso de tipos divergentes\n",
      "AVISO: acesso de tipos divergentes\n",
      "AVISO: acesso de tipos divergentes\n",
      "AVISO: acesso de tipos divergentes\n",
      "AVISO: acesso de tipos divergentes\n",
      "AVISO: acesso de tipos divergentes\n",
      "AVISO: acesso de tipos divergentes\n",
      "AVISO: acesso de tipos divergentes\n",
      "AVISO: Linha vazia na coluna 'vulner15a24': nan\n",
      "AVISO: Linha vazia na coluna 'mchefe_fmenor': nan\n",
      "AVISO: Linha vazia na coluna 'vulner_dia': nan\n",
      "AVISO: Linha vazia na coluna 'dom_vulner_idoso': nan\n",
      "atlas_udh: Foram importadas 100 colunas e 252 linhas\n"
     ]
    }
   ],
   "source": [
    "inserirDados('RM_Grande_Sao_Luis/atlasivs_dadosbrutos_Grande_Sao_Luis.csv', \n",
    "                nome_tabela='atlas_udh', \n",
    "                camada='ivs_ipea_sao_luis', \n",
    "                campo_camada='udh')"
   ]
  },
  {
   "cell_type": "markdown",
   "metadata": {},
   "source": [
    "Importando indicadores:"
   ]
  },
  {
   "cell_type": "code",
   "execution_count": 3,
   "metadata": {},
   "outputs": [
    {
     "data": {
      "text/html": [
       "<div>\n",
       "<style scoped>\n",
       "    .dataframe tbody tr th:only-of-type {\n",
       "        vertical-align: middle;\n",
       "    }\n",
       "\n",
       "    .dataframe tbody tr th {\n",
       "        vertical-align: top;\n",
       "    }\n",
       "\n",
       "    .dataframe thead th {\n",
       "        text-align: right;\n",
       "    }\n",
       "</style>\n",
       "<table border=\"1\" class=\"dataframe\">\n",
       "  <thead>\n",
       "    <tr style=\"text-align: right;\">\n",
       "      <th></th>\n",
       "      <th>tema</th>\n",
       "      <th>assunto</th>\n",
       "      <th>tabela</th>\n",
       "      <th>definicao</th>\n",
       "      <th>descricao</th>\n",
       "      <th>fonte</th>\n",
       "      <th>ano</th>\n",
       "    </tr>\n",
       "  </thead>\n",
       "  <tbody>\n",
       "    <tr>\n",
       "      <th>0</th>\n",
       "      <td>UDH</td>\n",
       "      <td>Atlas</td>\n",
       "      <td>atlas_vis_udh</td>\n",
       "      <td>ivs</td>\n",
       "      <td>Índice de Vulnerabilidade Social. Média aritmé...</td>\n",
       "      <td>IVS_IPEA</td>\n",
       "      <td>2010</td>\n",
       "    </tr>\n",
       "    <tr>\n",
       "      <th>1</th>\n",
       "      <td>UDH</td>\n",
       "      <td>Atlas</td>\n",
       "      <td>atlas_vis_udh</td>\n",
       "      <td>ivs_infraestrutura_urbana</td>\n",
       "      <td>Índice da dimensão Infraestrutura Urbana, é um...</td>\n",
       "      <td>IVS_IPEA</td>\n",
       "      <td>2010</td>\n",
       "    </tr>\n",
       "    <tr>\n",
       "      <th>2</th>\n",
       "      <td>UDH</td>\n",
       "      <td>Atlas</td>\n",
       "      <td>atlas_vis_udh</td>\n",
       "      <td>ivs_capital_humano</td>\n",
       "      <td>Índice da dimensão Capital Humano, é um dos 3 ...</td>\n",
       "      <td>IVS_IPEA</td>\n",
       "      <td>2010</td>\n",
       "    </tr>\n",
       "    <tr>\n",
       "      <th>3</th>\n",
       "      <td>UDH</td>\n",
       "      <td>Atlas</td>\n",
       "      <td>atlas_vis_udh</td>\n",
       "      <td>ivs_renda_e_trabalho</td>\n",
       "      <td>Índice da dimensão Renda e Trabalho, é um dos ...</td>\n",
       "      <td>IVS_IPEA</td>\n",
       "      <td>2010</td>\n",
       "    </tr>\n",
       "    <tr>\n",
       "      <th>4</th>\n",
       "      <td>UDH</td>\n",
       "      <td>Atlas</td>\n",
       "      <td>atlas_vis_udh</td>\n",
       "      <td>t_sem_agua_esgoto</td>\n",
       "      <td>Razão entre o número de pessoas que vivem em d...</td>\n",
       "      <td>IVS_IPEA</td>\n",
       "      <td>2010</td>\n",
       "    </tr>\n",
       "  </tbody>\n",
       "</table>\n",
       "</div>"
      ],
      "text/plain": [
       "  tema assunto         tabela                  definicao  \\\n",
       "0  UDH   Atlas  atlas_vis_udh                        ivs   \n",
       "1  UDH   Atlas  atlas_vis_udh  ivs_infraestrutura_urbana   \n",
       "2  UDH   Atlas  atlas_vis_udh         ivs_capital_humano   \n",
       "3  UDH   Atlas  atlas_vis_udh       ivs_renda_e_trabalho   \n",
       "4  UDH   Atlas  atlas_vis_udh          t_sem_agua_esgoto   \n",
       "\n",
       "                                           descricao     fonte   ano  \n",
       "0  Índice de Vulnerabilidade Social. Média aritmé...  IVS_IPEA  2010  \n",
       "1  Índice da dimensão Infraestrutura Urbana, é um...  IVS_IPEA  2010  \n",
       "2  Índice da dimensão Capital Humano, é um dos 3 ...  IVS_IPEA  2010  \n",
       "3  Índice da dimensão Renda e Trabalho, é um dos ...  IVS_IPEA  2010  \n",
       "4  Razão entre o número de pessoas que vivem em d...  IVS_IPEA  2010  "
      ]
     },
     "execution_count": 3,
     "metadata": {},
     "output_type": "execute_result"
    }
   ],
   "source": [
    "indicadores = pd.read_csv('RM_Grande_Sao_Luis/indicadores.csv', delimiter=';')\n",
    "indicadores.head()"
   ]
  },
  {
   "cell_type": "markdown",
   "metadata": {},
   "source": [
    "Obtenha a referência correta da camada:"
   ]
  },
  {
   "cell_type": "code",
   "execution_count": 5,
   "metadata": {},
   "outputs": [
    {
     "name": "stdout",
     "output_type": "stream",
     "text": [
      "   id_camada                      nome             tabela\n",
      "0          1  Setores Censitários IBGE   setor_censitario\n",
      "1          2            Bairros SEMFAZ     bairros_semfaz\n",
      "2          3               Anel Viário        anel_viario\n",
      "3         23                                        setor\n",
      "4         38               lotes_uniao        lotes_uniao\n",
      "5         43                 udh_atlas  ivs_ipea_sao_luis\n"
     ]
    }
   ],
   "source": [
    "df = lstCamadas()\n",
    "print (df)"
   ]
  },
  {
   "cell_type": "markdown",
   "metadata": {},
   "source": [
    "Loop de inserção de todos os indicadores que estavam no CSV"
   ]
  },
  {
   "cell_type": "code",
   "execution_count": 6,
   "metadata": {},
   "outputs": [],
   "source": [
    "for index, row in indicadores.iterrows():    \n",
    "    inserirIndicador(tema=row[\"tema\"], \n",
    "                            assunto=row[\"assunto\"],\n",
    "                            tabela=row[\"tabela\"],\n",
    "                            definicao=row[\"definicao\"],\n",
    "                            descricao=row[\"descricao\"],\n",
    "                            fonte=row[\"fonte\"],\n",
    "                            ano=row[\"ano\"],\n",
    "                            camada = 43) #referencia a camada"
   ]
  },
  {
   "cell_type": "markdown",
   "metadata": {},
   "source": [
    "Conferindo os indicadores inseridos:"
   ]
  },
  {
   "cell_type": "code",
   "execution_count": 7,
   "metadata": {},
   "outputs": [
    {
     "data": {
      "text/html": [
       "<div>\n",
       "<style scoped>\n",
       "    .dataframe tbody tr th:only-of-type {\n",
       "        vertical-align: middle;\n",
       "    }\n",
       "\n",
       "    .dataframe tbody tr th {\n",
       "        vertical-align: top;\n",
       "    }\n",
       "\n",
       "    .dataframe thead th {\n",
       "        text-align: right;\n",
       "    }\n",
       "</style>\n",
       "<table border=\"1\" class=\"dataframe\">\n",
       "  <thead>\n",
       "    <tr style=\"text-align: right;\">\n",
       "      <th></th>\n",
       "      <th>index</th>\n",
       "      <th>tema</th>\n",
       "      <th>assunto</th>\n",
       "      <th>descricao</th>\n",
       "      <th>fonte</th>\n",
       "      <th>ano</th>\n",
       "      <th>tabela</th>\n",
       "      <th>definicao</th>\n",
       "      <th>tabela</th>\n",
       "    </tr>\n",
       "    <tr>\n",
       "      <th>index</th>\n",
       "      <th></th>\n",
       "      <th></th>\n",
       "      <th></th>\n",
       "      <th></th>\n",
       "      <th></th>\n",
       "      <th></th>\n",
       "      <th></th>\n",
       "      <th></th>\n",
       "      <th></th>\n",
       "    </tr>\n",
       "  </thead>\n",
       "  <tbody>\n",
       "    <tr>\n",
       "      <th>2668</th>\n",
       "      <td>2668</td>\n",
       "      <td>UDH</td>\n",
       "      <td>Atlas</td>\n",
       "      <td>Índice de Vulnerabilidade Social. Média aritmé...</td>\n",
       "      <td>IVS_IPEA</td>\n",
       "      <td>2010</td>\n",
       "      <td>atlas_vis_udh</td>\n",
       "      <td>ivs</td>\n",
       "      <td>ivs_ipea_sao_luis</td>\n",
       "    </tr>\n",
       "    <tr>\n",
       "      <th>2669</th>\n",
       "      <td>2669</td>\n",
       "      <td>UDH</td>\n",
       "      <td>Atlas</td>\n",
       "      <td>Índice da dimensão Infraestrutura Urbana, é um...</td>\n",
       "      <td>IVS_IPEA</td>\n",
       "      <td>2010</td>\n",
       "      <td>atlas_vis_udh</td>\n",
       "      <td>ivs_infraestrutura_urbana</td>\n",
       "      <td>ivs_ipea_sao_luis</td>\n",
       "    </tr>\n",
       "    <tr>\n",
       "      <th>2670</th>\n",
       "      <td>2670</td>\n",
       "      <td>UDH</td>\n",
       "      <td>Atlas</td>\n",
       "      <td>Índice da dimensão Capital Humano, é um dos 3 ...</td>\n",
       "      <td>IVS_IPEA</td>\n",
       "      <td>2010</td>\n",
       "      <td>atlas_vis_udh</td>\n",
       "      <td>ivs_capital_humano</td>\n",
       "      <td>ivs_ipea_sao_luis</td>\n",
       "    </tr>\n",
       "    <tr>\n",
       "      <th>2671</th>\n",
       "      <td>2671</td>\n",
       "      <td>UDH</td>\n",
       "      <td>Atlas</td>\n",
       "      <td>Índice da dimensão Renda e Trabalho, é um dos ...</td>\n",
       "      <td>IVS_IPEA</td>\n",
       "      <td>2010</td>\n",
       "      <td>atlas_vis_udh</td>\n",
       "      <td>ivs_renda_e_trabalho</td>\n",
       "      <td>ivs_ipea_sao_luis</td>\n",
       "    </tr>\n",
       "    <tr>\n",
       "      <th>2672</th>\n",
       "      <td>2672</td>\n",
       "      <td>UDH</td>\n",
       "      <td>Atlas</td>\n",
       "      <td>Razão entre o número de pessoas que vivem em d...</td>\n",
       "      <td>IVS_IPEA</td>\n",
       "      <td>2010</td>\n",
       "      <td>atlas_vis_udh</td>\n",
       "      <td>t_sem_agua_esgoto</td>\n",
       "      <td>ivs_ipea_sao_luis</td>\n",
       "    </tr>\n",
       "  </tbody>\n",
       "</table>\n",
       "</div>"
      ],
      "text/plain": [
       "       index tema assunto                                          descricao  \\\n",
       "index                                                                          \n",
       "2668    2668  UDH   Atlas  Índice de Vulnerabilidade Social. Média aritmé...   \n",
       "2669    2669  UDH   Atlas  Índice da dimensão Infraestrutura Urbana, é um...   \n",
       "2670    2670  UDH   Atlas  Índice da dimensão Capital Humano, é um dos 3 ...   \n",
       "2671    2671  UDH   Atlas  Índice da dimensão Renda e Trabalho, é um dos ...   \n",
       "2672    2672  UDH   Atlas  Razão entre o número de pessoas que vivem em d...   \n",
       "\n",
       "          fonte   ano         tabela                  definicao  \\\n",
       "index                                                             \n",
       "2668   IVS_IPEA  2010  atlas_vis_udh                        ivs   \n",
       "2669   IVS_IPEA  2010  atlas_vis_udh  ivs_infraestrutura_urbana   \n",
       "2670   IVS_IPEA  2010  atlas_vis_udh         ivs_capital_humano   \n",
       "2671   IVS_IPEA  2010  atlas_vis_udh       ivs_renda_e_trabalho   \n",
       "2672   IVS_IPEA  2010  atlas_vis_udh          t_sem_agua_esgoto   \n",
       "\n",
       "                  tabela  \n",
       "index                     \n",
       "2668   ivs_ipea_sao_luis  \n",
       "2669   ivs_ipea_sao_luis  \n",
       "2670   ivs_ipea_sao_luis  \n",
       "2671   ivs_ipea_sao_luis  \n",
       "2672   ivs_ipea_sao_luis  "
      ]
     },
     "execution_count": 7,
     "metadata": {},
     "output_type": "execute_result"
    }
   ],
   "source": [
    "lst = lstIndicador(filtro='UDH')\n",
    "lst.head()"
   ]
  },
  {
   "cell_type": "markdown",
   "metadata": {},
   "source": [
    "Obtendo valores de do indicador:\n",
    "Índice de Vulnerabilidade Social. Média aritmética dos índices das dimensões: IVS Infraestrutura Urbana, IVS Capital Humano e IVS Renda e Trabalho.\n",
    "\n",
    "```\n",
    "#df, metadados = obterTema(indexes='2668')\n",
    "visMapaIndicador('2668', MAPA_ZOOM=11)\n",
    "```\n",
    "\n",
    "![SAIDA](saida.png)"
   ]
  }
 ],
 "metadata": {
  "kernelspec": {
   "display_name": "Python 3.8.8 ('base')",
   "language": "python",
   "name": "python3"
  },
  "language_info": {
   "codemirror_mode": {
    "name": "ipython",
    "version": 3
   },
   "file_extension": ".py",
   "mimetype": "text/x-python",
   "name": "python",
   "nbconvert_exporter": "python",
   "pygments_lexer": "ipython3",
   "version": "3.8.8"
  },
  "vscode": {
   "interpreter": {
    "hash": "2d82fd2c2aa67e8ad96447b416241042d338200cfe50522f0cabdf0de29516d4"
   }
  }
 },
 "nbformat": 4,
 "nbformat_minor": 2
}
