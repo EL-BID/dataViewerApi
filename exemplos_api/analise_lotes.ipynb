{
 "cells": [
  {
   "attachments": {},
   "cell_type": "markdown",
   "metadata": {},
   "source": [
    "# Análise dos Lotes - Lotes para Uso\n",
    "### Objetivos:\n",
    "\n",
    "- Identificar lotes que poderiam ser usados para habitações.\n",
    "    - Variáveis: ocupação, tamanho (>200m2), estado de conservação e dívida (existência e valor)\n",
    "- Identificar lotes que poderiam ser usados para equipamentos públicos.\n",
    "    - Variáveis: ocupação, tamanho (obter filtro com patrícia), estado de conservação e dívida (existência e valor)\n",
    "\n",
    "### TODO\n",
    "- Identificar lotes elegíveis para melhoria habitacional.\n",
    "    - Variáveis de Lotes: ocupação, tamanho (<80m2)\n",
    "    - cruzar com dados de setores censitários (domicilio01, v018-v022 - esgotamento)\n",
    "    - cruzar com dados de Zona de Interesse Social\n",
    "    - cruzar com dados de densidade populacional\n"
   ]
  },
  {
   "cell_type": "code",
   "execution_count": 1,
   "metadata": {},
   "outputs": [],
   "source": [
    "import os\n",
    "import sys\n",
    "\n",
    "#path para a biblioteca do apiModulo. Ajuste de acordo com a necessidade\n",
    "sys.path.insert(0, os.path.abspath('../'))\n",
    "from apiModulo.api import *"
   ]
  },
  {
   "attachments": {},
   "cell_type": "markdown",
   "metadata": {},
   "source": [
    "## Obtendo os lotes da base"
   ]
  },
  {
   "cell_type": "code",
   "execution_count": 2,
   "metadata": {},
   "outputs": [
    {
     "data": {
      "text/plain": [
       "Index(['level_0', 'index', 'setor', 'quadra', 'distrito', 'setor_novo',\n",
       "       'quadra_nova', 'inscricao_anterior', 'area_semfaz', 'uso_semfa',\n",
       "       'tipologia_semfaz', 'foto', 'inscricao_nova', 'logradouro', 'bairro',\n",
       "       'tombamento', 'divida_ipt', 'geometria', 'id', 'cod_lote', 'gabarito',\n",
       "       'uso_htl', 'tipologia_htl', 'conservacao', 'ocupacao', 'vocacao',\n",
       "       'numero', 'tp_coleta', 'estilo', 'google_ano', 'AREA_HTL', 'id_pa',\n",
       "       'paisagem_c', 'un_paisage', 'check_in', 'ha_lot', 'cod_camada',\n",
       "       'fk_camada'],\n",
       "      dtype='object')"
      ]
     },
     "execution_count": 2,
     "metadata": {},
     "output_type": "execute_result"
    }
   ],
   "source": [
    "lotes = obterCamada('lotes')\n",
    "lotes.columns"
   ]
  },
  {
   "attachments": {},
   "cell_type": "markdown",
   "metadata": {},
   "source": [
    "# Analisando ocupação na base\n",
    "- Campo \"finais_status_ocu\"\n",
    "- Ao todo 2640 lotes classificados dessa maneira"
   ]
  },
  {
   "cell_type": "code",
   "execution_count": 4,
   "metadata": {},
   "outputs": [
    {
     "data": {
      "text/plain": [
       "2640"
      ]
     },
     "execution_count": 4,
     "metadata": {},
     "output_type": "execute_result"
    }
   ],
   "source": [
    "ocupacao = lotes[~lotes['ocupacao'].isnull()]\n",
    "ocupacao.shape[0]"
   ]
  },
  {
   "cell_type": "code",
   "execution_count": 3,
   "metadata": {},
   "outputs": [],
   "source": [
    "#adicionando equipamentos informados pela prefeitura\n",
    "equipamentos = obterCamada('equipamento_publico', simples=False)"
   ]
  },
  {
   "cell_type": "code",
   "execution_count": 14,
   "metadata": {},
   "outputs": [
    {
     "data": {
      "application/vnd.jupyter.widget-view+json": {
       "model_id": "139f12b3949440a28072217d1f180c1f",
       "version_major": 2,
       "version_minor": 0
      },
      "text/plain": [
       "GridBox(children=(Dropdown(description='Ocupação:', index=2, options=('Edificação Subutilizada', 'Estacionamen…"
      ]
     },
     "metadata": {},
     "output_type": "display_data"
    },
    {
     "data": {
      "application/vnd.jupyter.widget-view+json": {
       "model_id": "f7503fb25a50434f99b448ca87b8fe69",
       "version_major": 2,
       "version_minor": 0
      },
      "text/plain": [
       "Output()"
      ]
     },
     "metadata": {},
     "output_type": "display_data"
    }
   ],
   "source": [
    "import ipywidgets as widgets\n",
    "import numpy as np\n",
    "\n",
    "#layout\n",
    "area_btn = widgets.IntSlider(value=200,min=ocupacao['AREA_HTL'].min(),max=ocupacao['AREA_HTL'].max(),step=10,description='Área Mínima:')\n",
    "ocupacao_btn = widgets.Dropdown(options=ocupacao['ocupacao'].unique(),value='Edificação sem uso', description='Ocupação:')\n",
    "conservacao_btn = widgets.Dropdown(options=ocupacao['conservacao'].unique(),value='Péssimo ou em Risco', description='Conservação:')\n",
    "tipo_btn =  widgets.Dropdown(options=['Polígono', 'Ponto', 'Calor'],value='Polígono', description='Lotes em:')\n",
    "equipamento_btn =  widgets.Dropdown(options=equipamentos['tipo'].unique(),value='Educação',description='Equipamentos:')\n",
    "button = widgets.Button(description='Carregar',disabled=False)\n",
    "grid = widgets.GridBox([ocupacao_btn, conservacao_btn, area_btn, equipamento_btn, tipo_btn, button], layout=widgets.Layout(grid_template_columns=\"repeat(3, 400px)\"))\n",
    "output = widgets.Output()\n",
    "display(grid, output)\n",
    "\n",
    "#ação quando selecionar itens\n",
    "def on_button_clicked(b):\n",
    "    with output:\n",
    "        output.clear_output()        \n",
    "        filtrado = ocupacao[ (ocupacao['AREA_HTL']>=area_btn.value) & (ocupacao['ocupacao']==ocupacao_btn.value)]\n",
    "        equip_filtrado = equipamentos[ (equipamentos['tipo'] == equipamento_btn.value) ]\n",
    "        print(f\"Total selecionado: {filtrado.shape[0]}\")\n",
    "\n",
    "        \n",
    "        m = visMultiMapa(width='90%', MAPA_ZOOM=15)\n",
    "        if tipo_btn.value == 'Polígono':\n",
    "            m = visMultiMapa(m, tipo='calor', dado=equip_filtrado, variavel='tipo')        \n",
    "            m = visMultiMapa(m, tipo='choro', \n",
    "                        dado=filtrado,                         \n",
    "                        variavel='ocupacao',\n",
    "                        alias=f\"Lotes com  Ocupação: {ocupacao_btn.value}, áre mínima: {area_btn.value} e estado de conservação: {conservacao_btn.value}\" )   \n",
    "        else: \n",
    "            como_pontos = filtrado\n",
    "            como_pontos['geometria'] = como_pontos['geometria'].centroid\n",
    "            if tipo_btn.value == 'Calor':\n",
    "                m = visMultiMapa(m, tipo='marcador', dado=equip_filtrado, variavel='tipo')        \n",
    "                m = visMultiMapa(m, tipo='calor', \n",
    "                            dado=como_pontos,  \n",
    "                            variavel='ocupacao',\n",
    "                            alias=f\"Lotes com  Ocupação: {ocupacao_btn.value}, áre mínima: {area_btn.value} e estado de conservação: {conservacao_btn.value}\" )   \n",
    "            else:\n",
    "                m = visMultiMapa(m, tipo='calor', dado=equip_filtrado, variavel='tipo')        \n",
    "                m = visMultiMapa(m, tipo='marcador', \n",
    "                            dado=como_pontos,  \n",
    "                            variavel='ocupacao',\n",
    "                            alias=f\"Lotes com  Ocupação: {ocupacao_btn.value}, áre mínima: {area_btn.value} e estado de conservação: {conservacao_btn.value}\" )   \n",
    "        display(m)\n",
    "\n",
    "button.on_click(on_button_clicked)    "
   ]
  }
 ],
 "metadata": {
  "kernelspec": {
   "display_name": "pdcbid",
   "language": "python",
   "name": "python3"
  },
  "language_info": {
   "codemirror_mode": {
    "name": "ipython",
    "version": 3
   },
   "file_extension": ".py",
   "mimetype": "text/x-python",
   "name": "python",
   "nbconvert_exporter": "python",
   "pygments_lexer": "ipython3",
   "version": "3.10.4"
  },
  "orig_nbformat": 4,
  "vscode": {
   "interpreter": {
    "hash": "585fe0ea6626d836868906949d3f419c526213375d04bab3eae82958a0af519c"
   }
  }
 },
 "nbformat": 4,
 "nbformat_minor": 2
}
