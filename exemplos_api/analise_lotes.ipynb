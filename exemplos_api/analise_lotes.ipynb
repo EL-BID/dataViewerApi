{
 "cells": [
  {
   "attachments": {},
   "cell_type": "markdown",
   "metadata": {},
   "source": [
    "---\n",
    "title: Análise dos Lotes - Lotes para Uso\n",
    "author: Geraldo Braz Junior\n",
    "description: Identificar lotes que poderiam ser usados para habitações e/ou para equipamentos públicos.\n",
    "params:\n",
    "    ocupacao_btn:\n",
    "        label: Ocupação\n",
    "        input: select\n",
    "        value: 'Edificação sem uso'\n",
    "        choices: ['Edificação Subutilizada', 'Estacionamento', 'Edificação sem uso', 'Terreno não edificado']\n",
    "        multi: False\n",
    "    conservacao_btn:\n",
    "        label: Conservação\n",
    "        input: select\n",
    "        value: 'Péssimo ou em Risco'\n",
    "        choices: ['Regular', 'Ótimo', 'Bom', 'Péssimo ou em Risco', 'Perda']\n",
    "        multi: False\n",
    "    area_btn:\n",
    "        label: Área\n",
    "        input: slider\n",
    "        value: 200\n",
    "        min: 20\n",
    "        max: 500\n",
    "    equipamento_btn:\n",
    "        label: Equipamento\n",
    "        input: select\n",
    "        value: 'Educação'\n",
    "        choices: ['Assistência Social', 'Educação', 'Equipamento Cultural', 'Saúde', 'Segurança']\n",
    "        multi: False\n",
    "    tipo_btn:\n",
    "        label: Shape dos Lotes\n",
    "        input: select\n",
    "        value: 'Polígono'\n",
    "        choices: ['Polígono', 'Ponto', 'Calor']\n",
    "        multi: False    \n",
    "---"
   ]
  },
  {
   "attachments": {},
   "cell_type": "markdown",
   "metadata": {},
   "source": [
    "### TODO\n",
    "- Identificar lotes elegíveis para melhoria habitacional.\n",
    "    - Variáveis de Lotes: ocupação, tamanho (<80m2)\n",
    "    - cruzar com dados de setores censitários (domicilio01, v018-v022 - esgotamento)\n",
    "    - cruzar com dados de Zona de Interesse Social\n",
    "    - cruzar com dados de densidade populacional\n"
   ]
  },
  {
   "cell_type": "code",
   "execution_count": null,
   "metadata": {},
   "outputs": [],
   "source": [
    "import os\n",
    "import sys\n",
    "\n",
    "#path para a biblioteca do apiModulo. Ajuste de acordo com a necessidade\n",
    "sys.path.insert(0, os.path.abspath('../'))\n",
    "from apiModulo.api import *"
   ]
  },
  {
   "attachments": {},
   "cell_type": "markdown",
   "metadata": {},
   "source": [
    "## Obtendo os lotes da base"
   ]
  },
  {
   "cell_type": "code",
   "execution_count": null,
   "metadata": {},
   "outputs": [],
   "source": [
    "lotes = obterCamada('lotes')"
   ]
  },
  {
   "attachments": {},
   "cell_type": "markdown",
   "metadata": {},
   "source": [
    "# Analisando ocupação na base\n",
    "- Campo \"finais_status_ocu\"\n",
    "- Ao todo 2640 lotes classificados dessa maneira"
   ]
  },
  {
   "cell_type": "code",
   "execution_count": null,
   "metadata": {},
   "outputs": [],
   "source": [
    "ocupacao = lotes[~lotes['ocupacao'].isnull()]\n",
    "print(ocupacao.shape[0])\n",
    "\n",
    "#adicionando equipamentos informados pela prefeitura\n",
    "equipamentos = obterCamada('equipamento_publico', simples=False)"
   ]
  },
  {
   "cell_type": "code",
   "execution_count": null,
   "metadata": {},
   "outputs": [],
   "source": [
    "#estado inicial das variáveis\n",
    "ocupacao_btn = 'Edificação sem uso'\n",
    "conservacao_btn = 'Péssimo ou em Risco'\n",
    "area_btn = 200\n",
    "equipamento_btn = 'Educação'\n",
    "tipo_btn = 'Polígono'"
   ]
  },
  {
   "cell_type": "code",
   "execution_count": null,
   "metadata": {},
   "outputs": [],
   "source": [
    "#ação quando selecionar itens\n",
    "filtrado = ocupacao[(ocupacao['AREA_HTL']>=area_btn*0.8) & (ocupacao['AREA_HTL']>=area_btn*1.2)  & (ocupacao['ocupacao']==ocupacao_btn)]\n",
    "equip_filtrado = equipamentos[ (equipamentos['tipo'] == equipamento_btn) ]\n",
    "print(f\"Total selecionado: {filtrado.shape[0]}\")\n",
    "\n",
    "        \n",
    "m = visMultiMapa(width='90%', MAPA_ZOOM=15)\n",
    "if tipo_btn == 'Polígono':\n",
    "    m = visMultiMapa(m, tipo='calor', dado=equip_filtrado, variavel='tipo')        \n",
    "    m = visMultiMapa(m, tipo='choro', \n",
    "                dado=filtrado,                         \n",
    "                variavel='ocupacao',\n",
    "                alias=f\"Lotes com  Ocupação: {ocupacao_btn}, áre mínima: {area_btn} e estado de conservação: {conservacao_btn}\" )   \n",
    "else: \n",
    "    como_pontos = filtrado\n",
    "    como_pontos['geometria'] = como_pontos['geometria'].centroid\n",
    "    if tipo_btn == 'Calor':\n",
    "        m = visMultiMapa(m, tipo='marcador', dado=equip_filtrado, variavel='tipo')        \n",
    "        m = visMultiMapa(m, tipo='calor', \n",
    "                    dado=como_pontos,  \n",
    "                    variavel='ocupacao',\n",
    "                    alias=f\"Lotes com  Ocupação: {ocupacao_btn}, áre mínima: {area_btn} e estado de conservação: {conservacao_btn}\" )   \n",
    "    else:\n",
    "        m = visMultiMapa(m, tipo='calor', dado=equip_filtrado, variavel='tipo')        \n",
    "        m = visMultiMapa(m, tipo='marcador', \n",
    "                    dado=como_pontos,  \n",
    "                    variavel='ocupacao',\n",
    "                    alias=f\"Lotes com  Ocupação: {ocupacao_btn}, áre mínima: {area_btn} e estado de conservação: {conservacao_btn}\" )   \n",
    "m"
   ]
  }
 ],
 "metadata": {
  "kernelspec": {
   "display_name": "pdcbid",
   "language": "python",
   "name": "python3"
  },
  "language_info": {
   "codemirror_mode": {
    "name": "ipython",
    "version": 3
   },
   "file_extension": ".py",
   "mimetype": "text/x-python",
   "name": "python",
   "nbconvert_exporter": "python",
   "pygments_lexer": "ipython3",
   "version": "3.10.4"
  },
  "orig_nbformat": 4,
  "vscode": {
   "interpreter": {
    "hash": "585fe0ea6626d836868906949d3f419c526213375d04bab3eae82958a0af519c"
   }
  }
 },
 "nbformat": 4,
 "nbformat_minor": 2
}
